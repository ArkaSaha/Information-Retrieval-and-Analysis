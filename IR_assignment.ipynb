{
 "cells": [
  {
   "cell_type": "code",
   "execution_count": 1,
   "metadata": {},
   "outputs": [],
   "source": [
    "import numpy as np\n",
    "\n",
    "from time import time\n",
    "import os\n",
    "from os import listdir\n",
    "from os.path import isfile, join\n",
    "\n",
    "import glob\n",
    "import string\n",
    "from nltk.stem.porter import *"
   ]
  },
  {
   "cell_type": "code",
   "execution_count": 2,
   "metadata": {},
   "outputs": [],
   "source": [
    "def directory_listing(dir_path):\n",
    "    '''\n",
    "    Input:  string (path to directory)\n",
    "    Output: list of strings (full paths to files in the directory)\n",
    "    '''\n",
    "    \n",
    "    return glob.glob(dir_path + '*.txt')"
   ]
  },
  {
   "cell_type": "code",
   "execution_count": 31,
   "metadata": {},
   "outputs": [
    {
     "name": "stdout",
     "output_type": "stream",
     "text": [
      "[]\n"
     ]
    }
   ],
   "source": [
    "path = os.getcwd() +'/HillaryEmails/'\n",
    "all_files = directory_listing(path)\n",
    "print(all_files)\n",
    "#all_files"
   ]
  },
  {
   "cell_type": "code",
   "execution_count": null,
   "metadata": {},
   "outputs": [],
   "source": []
  },
  {
   "cell_type": "code",
   "execution_count": 3,
   "metadata": {},
   "outputs": [],
   "source": [
    "def read_file(file_path):\n",
    "    '''\n",
    "    Input:  string (full path to file)\n",
    "    Output: string/text (full contents of a file)\n",
    "    '''\n",
    "    \n",
    "    lines = [line.rstrip('\\n') for line in open(file_path)]\n",
    "    return ' '.join(lines)"
   ]
  },
  {
   "cell_type": "code",
   "execution_count": 62,
   "metadata": {},
   "outputs": [
    {
     "data": {
      "text/plain": [
       "'UNCLASSIFIED U.S. Department of State Case No. F-2015-04841 Doc No. C05739714 Date: 05/13/2015 STATE DEPT. - PRODUCED TO HOUSE SELECT BENGHAZI COMM. SUBJECT TO AGREEMENT ON SENSITIVE INFORMATION & REDACTIONS. NO FOIA WAIVER. RELEASE IN FULL From: Mills, Cheryl D <MillsCD©state.gova Sent Sunday, October 14, 2012 9:46 AM To: Subject: Re: Bloomberg: Libyan Ambassador\\'s Death Not a Political Issue, Says Dad In car driving so can in a bit From: H [mallto:H0R22@clintonemail.corri] Sent: Sunday, October 14, 2012 09:39 AM To: Mills, Cheryl D Subject: Re: Bloomberg: Libyan Ambassador\\'s Death Not a Political Issue, Says Dad Very nice. Can you talk? From: Mills, Cheryl D [mailto:MillsCD@state,gov] Sent: Sunday, October 14, 2012 09:00 AM To: H Subject Fw: Bloomberg: Libyan Ambassador\\'s Death Not a Political Issue, Says Dad , From: Hensman, Chris D Sent: Sunday, October 14, 2012 08:19 AM To: Coordination Cc: Mills, Cheryl D; Reines, Philippe I Subject: Fw: Bloomberg: Libyan Ambassador\\'s Death Not a Political Issue, Says Dad From: PA Clips jrnailto:paclips@state.govi Sent: Sunday, October 14, 2012 07:58 AM To PA-Monitoring-Group-DL; Moe, Grace T; Masonis, Melinda 3; Atchison, Mark C; NEA-Press-DL; DS PA Media, Shore, Rhonda H; Balenger, De\\'Ara N Subject: Bloomberg: Libyan Ambassador\\'s Death Not a Political Issue, Says Dad Libyan Ambassador\\'s Death Not a Political Issue, Says Dad By Margaret Taley on October 14, 2012 BusinessWeek Bloomberg News The father of Christopher Stevens, the U.S. ambassador to Libya who was killed in the attack in Benghazi last month, said his son\\'s death shouldn\\'t be politicized in the presidential campaign, \"It would really be abhorrent to make this into a campaign issue,\" Jan Stevens, 77, said in a telephone interview from his home in Loomis, California, as he prepares for a memorial service for his son next week. Mitt Romney, the Republican nominee, has criticized President Barack Obama for not providing adequate security in Libya, saying the administration has left the country exposed to a deadly terrorist attack. UNCLASSIFIED U.S. Department of State Case No. F-2015-04841 Doc No. C05739714 Date: 05/13/2015 STATE DEPT. - PRODUCED TO HOUSE SELECT BENGHAZI COMM. SUBJECT TO AGREEMENT ON SENSITIVE INFORMATION & REDACTIONS. NO FOIA WAIVER. STATE-SCB0045708 \\x0cUNCLASSIFIED U.S. Department of State Case No. F-2015-04841 Doc No. C05739714 Date: 05/13/2015 STATE DEPT. - PRODUCED TO HOUSE SELECT BENGHAZI COMM. SUBJECT TO AGREEMENT ON SENSITIVE INFORMATION & REDACTIONS. NO FOIA WAIVER. The ambassador\\'s father, a lawyer, said politicians should await the findings of a formal investigation before making accusations or judgments. \"The security matters are being adequately investigated,\" Stevens said. \"We don\\'t pretend to be experts in security. It has to be objectively examined. That\\'s where it belongs. It does not belong in the campaign arena.\" Stevens said he has been getting briefings from the State Department on the progress of the investigation. \\'Very Optimistic\\' Stevens said while he was close with his son, \"we weren\\'t that familiar with the day-to-day activities\" he undertook in Libya. On the occasions when his son called home, Stevens said, he didn\\'t share many details about his work other than to say that \"he was very optimistic about the results of the election and the new government.\" They last spoke by phone in August and by e-mail days before his son\\'s death. Stevens, a registered Democrat, said he isn\\'t politically active. He declined to say how he\\'ll vote in the presidential election. He said his son, who was a career diplomat and had worked for Republican and Democratic presidents, hadn\\'t expressed concerns to him about security or support from the administration. \"He felt very strongly about Secretary Clinton,\" Stevens said, referring to Secretary of State Hillary Clinton. \"He felt she was an extremely able person.\" As for whether he had the tools and protection he needed for his job, Stevens said of his son: \"We didn\\'t get into that\" sort of discussion. \"I never heard him say a critical word about the State Department or the administration, or any administration for that matter. He came up through the foreign service, not politics.\" Obama Call Stevens said neither of the two presidential campaigns reached out to him, and that he is grateful for that. He said Obama telephoned him after his son\\'s death to express his regrets and talk about identifying the perpetrators who should be brought to justice, and that the conversation was in the context of his presidential duties and not political. While pollsindicate that voters say Obama would do a better job on foreign policy issues, Republicans see an opportunity to cut into that advantage, pointing to surveys showing that voters have grown less satisfied since the Sept. 11 assault in Libya. Stevens stopped short of directly criticizing either candidate. \"I\\'m not sure exactly what he\\'s been saying and not saying, but our position is it would be a real shame if this were politicized,\" Stevens said, referring to Romney. \"Our concern now is memorializing Chris and remembering his contribution to the country.\" Campaign Shift Romney\\'s current foreign policy position marks a shift in tone from a campaign that has focused almost exclusively on economic issues and jobs. The Romney team is attempting to link two campaign messages by charging Obama with weakening American interests abroad at the same time as he\\'s failed to boost the economy back home. Speaking to voters on Oct. 12 in Richmond, Virginia, Romney chastised Vice President Joe Biden for his defense of the administration\\'s actions in the Libya attack. UNCLASSIFIED U.S. Department of State Case No. F-2015-04841 Doc No. C05739714 Date: 05/13/2015 STATE DEPT. - PRODUCED TO HOUSE SELECT BENGHAZI COMM. SUBJECT TO AGREEMENT ON SENSITIVE INFORMATION & REDACTIONS. NO FOIA WAIVER. STATE-SCB0045709 \\x0cUNCLASSIFIED U.S. Department of State Case No. F-2015-04841 Doc No. C05739714 Date: 05/13/2015 STATE DEPT. - PRODUCED TO HOUSE SELECT BENGHAZI COMM. SUBJECT TO AGREEMENT ON SENSITIVE INFORMATION & REDACTIONS. NO FOIA WAIVER. \"He\\'s doubling down on denial, and we need to understand exactly what happened as opposed to just having people brush this aside,\" Romney said. During last week\\'s vice presidential debate, Biden said the White House wasn\\'t told of a request for additional security at the mission in Benghazi the month before the incident. State Department official Eric Nordstrom, who served as a regional security officer in Tripoli until July, told a congressional committee that he was turned down when he requested an extension of a 16-member security support team that was scheduled to leave Libya in August. \\'Mission Creep\\' Romney hasn\\'t specified what he would do differently than the administration in Libya. In a speech at the Virginia Military Institute earlier last week, he called for support of Libya\\'s \"efforts to forge a lasting government\" and to pursue the \"terrorists who attacked our consulate.\" That view is at odds with the position Romney took more than a year ago, when he opposed expanding the intervention in Libya to capture Muammar Qaddafi, calling it \"mission creep and mission muddle\" in April 2011. Neither the administration\\'s initial public report that the attack began with a spontaneous demonstration against an anti- Islamic video clip nor Republican suggestions that it was a planned attack tied to al-Qaeda are supported by U.S. intelligence reports or by accounts of the night provided to a Bloomberg reporter by Benghazi residents. White House Press Secretary Jay Carney told reporters that \"the president wants to get to the bottom of what happened.\" Carney also sought to minimize questions about why the president and other administration officials were slow to publicly acknowledge the role of terrorism in the attack. \"As time went on, additional information became available,\" Carney said. \"Clearly, we know more today than we did on the Sunday after the attack. But as the process moves forward and more information becomes available, we will be sure to continue consulting with you.\" Haider Karzai PA/PRS UNCLASSIFIED U.S. Department of State Case No. F-2015-04841 Doc No. C05739714 Date: 05/13/2015 STATE DEPT. - PRODUCED TO HOUSE SELECT BENGHAZI COMM. SUBJECT TO AGREEMENT ON SENSITIVE INFORMATION & REDACTIONS. NO FOIA WAIVER. STATE-SCB0045710 \\x0c'"
      ]
     },
     "execution_count": 62,
     "metadata": {},
     "output_type": "execute_result"
    }
   ],
   "source": [
    "file_text = read_file(all_files[0])\n",
    "file_text"
   ]
  },
  {
   "cell_type": "code",
   "execution_count": null,
   "metadata": {},
   "outputs": [],
   "source": []
  },
  {
   "cell_type": "code",
   "execution_count": 4,
   "metadata": {},
   "outputs": [],
   "source": [
    "def tokenization(text, file_path):\n",
    "    '''\n",
    "    Input:  text(file contents), string (document id = path to file)\n",
    "    Output: list of pairs < string(token) , string (document id) >\n",
    "    '''\n",
    "    doc_id = int(os.path.basename(file_path).replace('.txt','')) #retrieve document id from file path\n",
    "    tokens = text.split()\n",
    "    return [(token, doc_id) for token in tokens]\n",
    "    "
   ]
  },
  {
   "cell_type": "code",
   "execution_count": 15,
   "metadata": {},
   "outputs": [
    {
     "ename": "NameError",
     "evalue": "name 'file_text' is not defined",
     "output_type": "error",
     "traceback": [
      "\u001b[0;31m---------------------------------------------------------------------------\u001b[0m",
      "\u001b[0;31mNameError\u001b[0m                                 Traceback (most recent call last)",
      "\u001b[0;32m<ipython-input-15-4ed1de089405>\u001b[0m in \u001b[0;36m<module>\u001b[0;34m\u001b[0m\n\u001b[0;32m----> 1\u001b[0;31m \u001b[0mtoken_pairs\u001b[0m \u001b[0;34m=\u001b[0m \u001b[0mtokenization\u001b[0m\u001b[0;34m(\u001b[0m\u001b[0mfile_text\u001b[0m\u001b[0;34m,\u001b[0m \u001b[0mall_files\u001b[0m\u001b[0;34m[\u001b[0m\u001b[0;36m0\u001b[0m\u001b[0;34m]\u001b[0m\u001b[0;34m)\u001b[0m\u001b[0;34m\u001b[0m\u001b[0m\n\u001b[0m\u001b[1;32m      2\u001b[0m \u001b[0mprint\u001b[0m\u001b[0;34m(\u001b[0m\u001b[0;34m\"length of pairs: \"\u001b[0m\u001b[0;34m,\u001b[0m \u001b[0mlen\u001b[0m\u001b[0;34m(\u001b[0m\u001b[0mtoken_pairs\u001b[0m\u001b[0;34m)\u001b[0m\u001b[0;34m)\u001b[0m\u001b[0;34m\u001b[0m\u001b[0m\n\u001b[1;32m      3\u001b[0m \u001b[0;31m#token_pairs\u001b[0m\u001b[0;34m\u001b[0m\u001b[0;34m\u001b[0m\u001b[0m\n",
      "\u001b[0;31mNameError\u001b[0m: name 'file_text' is not defined"
     ]
    }
   ],
   "source": [
    "token_pairs = tokenization(file_text, all_files[0])\n",
    "print(\"length of pairs: \", len(token_pairs))\n",
    "#token_pairs"
   ]
  },
  {
   "cell_type": "code",
   "execution_count": null,
   "metadata": {},
   "outputs": [],
   "source": []
  },
  {
   "cell_type": "code",
   "execution_count": 5,
   "metadata": {},
   "outputs": [],
   "source": [
    "def linguistic_modules(token_pairs):\n",
    "    '''\n",
    "    Input:  list of pairs < token , document id >\n",
    "    Output: list of pairs < modified token , document id >\n",
    "    \n",
    "    modified token: removing all punctuation symbols (!@#$%^&*()-_=+’`~”:;/.,?[]{}<>),lowercasingand stemming.\n",
    "    '''\n",
    "    \n",
    "    stemmer = PorterStemmer()  \n",
    "    return [(stemmer.stem(token.translate(str.maketrans('','',string.punctuation)).lower()), doc_id)  \n",
    "            for token, doc_id in token_pairs  \n",
    "                if token.translate(str.maketrans('','',string.punctuation)) is not ''] #if statement to check empty token\n",
    "    "
   ]
  },
  {
   "cell_type": "code",
   "execution_count": 66,
   "metadata": {},
   "outputs": [
    {
     "name": "stdout",
     "output_type": "stream",
     "text": [
      "length after modification:  1313\n"
     ]
    }
   ],
   "source": [
    "modified_token_pairs = linguistic_modules(token_pairs)\n",
    "print('length after modification: ', len(modified_token_pairs))\n",
    "#modified_token_pairs"
   ]
  },
  {
   "cell_type": "code",
   "execution_count": 67,
   "metadata": {},
   "outputs": [
    {
     "data": {
      "text/plain": [
       "[('unclassifi', '133'), ('us', '133'), ('depart', '133')]"
      ]
     },
     "execution_count": 67,
     "metadata": {},
     "output_type": "execute_result"
    }
   ],
   "source": [
    "l = [('unclassifi', '133'),('us', '133'),('depart', '133'), ('!','12')]\n",
    "linguistic_modules(l)"
   ]
  },
  {
   "cell_type": "code",
   "execution_count": null,
   "metadata": {},
   "outputs": [],
   "source": []
  },
  {
   "cell_type": "code",
   "execution_count": 6,
   "metadata": {},
   "outputs": [],
   "source": [
    "def sort_tokens(token_pairs):\n",
    "    '''\n",
    "    Input:  list of pairs < token , document id >\n",
    "    Output: sorted list of pairs < token , document id >\n",
    "    \n",
    "    perform sorting of the token list: first by tokens (alphabetical order), and then by document ids \n",
    "    '''\n",
    "    \n",
    "    return sorted(token_pairs, key=lambda element: (element[0], element[1]))"
   ]
  },
  {
   "cell_type": "code",
   "execution_count": 69,
   "metadata": {},
   "outputs": [],
   "source": [
    "sorted_modified_token_pairs = sort_tokens(modified_token_pairs)\n",
    "#sorted_modified_token_pairs"
   ]
  },
  {
   "cell_type": "code",
   "execution_count": null,
   "metadata": {},
   "outputs": [],
   "source": []
  },
  {
   "cell_type": "code",
   "execution_count": 7,
   "metadata": {},
   "outputs": [],
   "source": [
    "def transformation_into_postings(sorted_token_pairs):\n",
    "    '''\n",
    "    Input: sorted list of pairs < token , document id >\n",
    "    Output: inverted index\n",
    "    \n",
    "    Used dictionary data structure (Hash table)\n",
    "    '''\n",
    "    \n",
    "    dictionary_ = {}\n",
    "    for a, b in sorted_token_pairs:\n",
    "        dictionary_.setdefault(a, []).append(b)\n",
    "#     dictionary_ = {key:list(sorted(set(value))) for (key, value) in dictionary_.items()}\n",
    "    for key in dictionary_:\n",
    "        value = dictionary_[key]\n",
    "        posting = list(sorted(set(value)))\n",
    "        dictionary_[key] = (len(posting),posting)\n",
    "    return dictionary_"
   ]
  },
  {
   "cell_type": "code",
   "execution_count": 71,
   "metadata": {},
   "outputs": [],
   "source": [
    "posting_list = transformation_into_postings(sorted_modified_token_pairs)\n",
    "#posting_list"
   ]
  },
  {
   "cell_type": "code",
   "execution_count": 72,
   "metadata": {},
   "outputs": [
    {
     "data": {
      "text/plain": [
       "[1840, 483, 1526]"
      ]
     },
     "execution_count": 72,
     "metadata": {},
     "output_type": "execute_result"
    }
   ],
   "source": [
    "a = [483, 483, 1526, 1526, 1840, 1840, 1840, 1840]\n",
    "list(set(a))"
   ]
  },
  {
   "cell_type": "code",
   "execution_count": 73,
   "metadata": {},
   "outputs": [
    {
     "data": {
      "text/plain": [
       "{'a': [1, 2], 'c': [3], 'b': [2, 3]}"
      ]
     },
     "execution_count": 73,
     "metadata": {},
     "output_type": "execute_result"
    }
   ],
   "source": [
    "d = {'a': [1,1,2], 'c': [3], 'b': [2,3,2]}\n",
    "{key:list(set(value)) for (key, value) in d.items()}\n"
   ]
  },
  {
   "cell_type": "code",
   "execution_count": 74,
   "metadata": {},
   "outputs": [
    {
     "name": "stdout",
     "output_type": "stream",
     "text": [
      "{'a': 2, 'b': 4, 'c': 6, 'd': 8, 'e': 10}\n"
     ]
    }
   ],
   "source": [
    "dict1 = {'a': 1, 'b': 2, 'c': 3, 'd': 4, 'e': 5}\n",
    "# Double each value in the dictionary\n",
    "double_dict1 = {k:v*2 for (k,v) in dict1.items()}\n",
    "print(double_dict1)"
   ]
  },
  {
   "cell_type": "code",
   "execution_count": 8,
   "metadata": {},
   "outputs": [],
   "source": [
    "def postings_list_merge(postings_lists):\n",
    "    '''\n",
    "    Input: list of postings lists \n",
    "    Output: merged postings list\n",
    "    \n",
    "    Intersect the postings lists in increasing order of length\n",
    "    '''\n",
    "    \n",
    "    sorted_postings_lists = sorted(postings_lists, key = lambda l : l[0], reverse = True)\n",
    "    first_len, first_list = sorted_postings_lists.pop()\n",
    "    while sorted_postings_lists:\n",
    "        second_len, second_list = sorted_postings_lists.pop()\n",
    "        merged_list = []\n",
    "        p1 = 0\n",
    "        p2 = 0\n",
    "        length = 0\n",
    "        while p1 < first_len and p2 < second_len:\n",
    "            if first_list[p1] == second_list[p2]:\n",
    "                merged_list.append(first_list[p1])\n",
    "                p1 += 1\n",
    "                p2 += 1\n",
    "                length += 1\n",
    "            elif first_list[p1] < second_list[p2]:\n",
    "                p1 += 1\n",
    "            else:\n",
    "                p2 += 1\n",
    "        first_list = merged_list\n",
    "        first_len = length\n",
    "    return merged_list"
   ]
  },
  {
   "cell_type": "code",
   "execution_count": 9,
   "metadata": {},
   "outputs": [
    {
     "name": "stdout",
     "output_type": "stream",
     "text": [
      "431.4570617675781\n"
     ]
    }
   ],
   "source": [
    "# MAIN\n",
    "start = time()\n",
    "\n",
    "path = os.getcwd() +'/HillaryEmails/'\n",
    "# print(path)\n",
    "all_files = directory_listing(path)\n",
    "# print(all_files)\n",
    "#all_files = all_files[:10]\n",
    "\n",
    "all_token_pairs = []\n",
    "\n",
    "for file in all_files:\n",
    "    file_text = read_file(file)\n",
    "    token_pairs = tokenization(file_text, file)\n",
    "    modified_token_pairs = linguistic_modules(token_pairs)\n",
    "    all_token_pairs = all_token_pairs + modified_token_pairs\n",
    "\n",
    "end = time()\n",
    "print(end - start)"
   ]
  },
  {
   "cell_type": "code",
   "execution_count": 10,
   "metadata": {},
   "outputs": [
    {
     "name": "stdout",
     "output_type": "stream",
     "text": [
      "10.341278791427612\n"
     ]
    }
   ],
   "source": [
    "start = time()\n",
    "\n",
    "sorted_token_pairs = sort_tokens(all_token_pairs)\n",
    "posting_list = transformation_into_postings(sorted_token_pairs)\n",
    "# posting_list\n",
    "\n",
    "\n",
    "end = time()\n",
    "print(end - start)"
   ]
  },
  {
   "cell_type": "code",
   "execution_count": 14,
   "metadata": {
    "scrolled": false
   },
   "outputs": [
    {
     "data": {
      "text/plain": [
       "[1325, 1397]"
      ]
     },
     "execution_count": 14,
     "metadata": {},
     "output_type": "execute_result"
    }
   ],
   "source": [
    "postings_list_merge([posting_list['mail'],posting_list['phone'],posting_list['clinton']])"
   ]
  },
  {
   "cell_type": "code",
   "execution_count": 15,
   "metadata": {},
   "outputs": [
    {
     "name": "stdout",
     "output_type": "stream",
     "text": [
      "Enter your query: Clinton mail phone\n",
      "List of files with query: ['1325.txt', '1397.txt']\n",
      "Time taken: 0.00092315673828125\n",
      "\n",
      "Enter your query: Clinton's email and phone\n",
      "List of files with query: ['32.txt', '126.txt', '132.txt', '133.txt', '137.txt', '665.txt', '1397.txt', '1416.txt', '2043.txt', '2118.txt', '2353.txt', '2355.txt', '2420.txt', '2536.txt', '3280.txt', '3910.txt', '3911.txt', '4299.txt', '4335.txt', '5264.txt', '5288.txt', '5300.txt', '5490.txt', '5549.txt', '5991.txt', '5998.txt', '6024.txt', '6030.txt', '6674.txt', '6675.txt', '6823.txt', '7541.txt', '7907.txt']\n",
      "Time taken: 0.004822731018066406\n",
      "\n",
      "Enter your query: \n"
     ]
    }
   ],
   "source": [
    "# User Queries\n",
    "stemmer = PorterStemmer()\n",
    "query = input('Enter your query: ')\n",
    "while query is not '':\n",
    "    start = time()\n",
    "    tokens = query.split()  \n",
    "    stemmed_tokens = [stemmer.stem(token.translate(str.maketrans('','',string.punctuation)).lower()) \n",
    "            for token in tokens\n",
    "                if token.translate(str.maketrans('','',string.punctuation)) is not '']\n",
    "    result = postings_list_merge([posting_list[tok] for tok in stemmed_tokens])\n",
    "    end = time()\n",
    "    print('List of files with query: '+str([str(res)+'.txt' for res in result]))\n",
    "    print('Time taken: '+str(end-start))\n",
    "    print()\n",
    "    query = input('Enter your query: ')"
   ]
  },
  {
   "cell_type": "code",
   "execution_count": null,
   "metadata": {},
   "outputs": [],
   "source": []
  }
 ],
 "metadata": {
  "kernelspec": {
   "display_name": "Python 3",
   "language": "python",
   "name": "python3"
  },
  "language_info": {
   "codemirror_mode": {
    "name": "ipython",
    "version": 3
   },
   "file_extension": ".py",
   "mimetype": "text/x-python",
   "name": "python",
   "nbconvert_exporter": "python",
   "pygments_lexer": "ipython3",
   "version": "3.6.5"
  }
 },
 "nbformat": 4,
 "nbformat_minor": 2
}
